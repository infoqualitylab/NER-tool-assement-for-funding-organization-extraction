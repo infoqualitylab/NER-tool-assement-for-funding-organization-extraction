{
  "cells": [
    {
      "cell_type": "markdown",
      "metadata": {
        "id": "PmwRNSTFoSO_"
      },
      "source": [
        "# Application of Named Entity Recognition tools on Funding Information\n",
        "\n",
        "A code implemented to extract named entites from a text. NER tools are used for extracting organization names from funding information obtained from PubMed research papers"
      ]
    },
    {
      "cell_type": "markdown",
      "source": [
        "# 1. Setting up the environment\n"
      ],
      "metadata": {
        "id": "3Jqzdtc0jngV"
      }
    },
    {
      "cell_type": "code",
      "execution_count": 1,
      "metadata": {
        "colab": {
          "base_uri": "https://localhost:8080/"
        },
        "id": "d_Cz3JC5cTkZ",
        "outputId": "fbe061d3-5bec-4339-a83c-cfaf77cb9871"
      },
      "outputs": [
        {
          "output_type": "stream",
          "name": "stdout",
          "text": [
            "Mounted at /content/gdrive\n"
          ]
        }
      ],
      "source": [
        "# Connecting the google colab noteboook to google drive\n",
        "from google.colab import drive\n",
        "drive.mount('/content/gdrive')"
      ]
    },
    {
      "cell_type": "code",
      "source": [
        "import timeit\n",
        "t_0 = timeit.default_timer()"
      ],
      "metadata": {
        "id": "Y9n8X1fR7_mX"
      },
      "execution_count": 2,
      "outputs": []
    },
    {
      "cell_type": "code",
      "execution_count": 3,
      "metadata": {
        "id": "_1GJ6zV2b_pD"
      },
      "outputs": [],
      "source": [
        "# importing required libraries\n",
        "import pandas as pd\n",
        "import numpy as np\n",
        "import spacy\n",
        "import pickle"
      ]
    },
    {
      "cell_type": "code",
      "execution_count": 4,
      "metadata": {
        "colab": {
          "base_uri": "https://localhost:8080/",
          "height": 206
        },
        "id": "JLq8LpXHcjGK",
        "outputId": "dbb155f2-a2cf-409b-a290-9943743cb375"
      },
      "outputs": [
        {
          "output_type": "execute_result",
          "data": {
            "text/plain": [
              "                                       Article_Title   PMC_ID  \\\n",
              "0  Impact of antibiotics on the human microbiome ...  8756738   \n",
              "1  Novel nitrite reductase domain structure sugge...  8756737   \n",
              "2  Efficacy of antifungal agents against fungal s...  8756736   \n",
              "3  Assembly and comparative analysis of the first...  8756732   \n",
              "4  Characterizing the effects of different chemic...  8756731   \n",
              "\n",
              "                          DOI  \\\n",
              "0                          na   \n",
              "1                          na   \n",
              "2                          na   \n",
              "3  10.1186/s12870-021-03416-5   \n",
              "4  10.1186/s13007-021-00835-1   \n",
              "\n",
              "                                     acknowledgement  \n",
              "0  The authors were funded in part by Science Fou...  \n",
              "1  The authors thank Dr. Ranjani Murali for advic...  \n",
              "2  This study was funded by Dr. Pfleger Arzneimit...  \n",
              "3  Thanks to all the members of the Institute of ...  \n",
              "4  Not applicable. This work was supported by the...  "
            ],
            "text/html": [
              "\n",
              "  <div id=\"df-d1708b8d-a0b3-46a6-95f5-498659110297\">\n",
              "    <div class=\"colab-df-container\">\n",
              "      <div>\n",
              "<style scoped>\n",
              "    .dataframe tbody tr th:only-of-type {\n",
              "        vertical-align: middle;\n",
              "    }\n",
              "\n",
              "    .dataframe tbody tr th {\n",
              "        vertical-align: top;\n",
              "    }\n",
              "\n",
              "    .dataframe thead th {\n",
              "        text-align: right;\n",
              "    }\n",
              "</style>\n",
              "<table border=\"1\" class=\"dataframe\">\n",
              "  <thead>\n",
              "    <tr style=\"text-align: right;\">\n",
              "      <th></th>\n",
              "      <th>Article_Title</th>\n",
              "      <th>PMC_ID</th>\n",
              "      <th>DOI</th>\n",
              "      <th>acknowledgement</th>\n",
              "    </tr>\n",
              "  </thead>\n",
              "  <tbody>\n",
              "    <tr>\n",
              "      <th>0</th>\n",
              "      <td>Impact of antibiotics on the human microbiome ...</td>\n",
              "      <td>8756738</td>\n",
              "      <td>na</td>\n",
              "      <td>The authors were funded in part by Science Fou...</td>\n",
              "    </tr>\n",
              "    <tr>\n",
              "      <th>1</th>\n",
              "      <td>Novel nitrite reductase domain structure sugge...</td>\n",
              "      <td>8756737</td>\n",
              "      <td>na</td>\n",
              "      <td>The authors thank Dr. Ranjani Murali for advic...</td>\n",
              "    </tr>\n",
              "    <tr>\n",
              "      <th>2</th>\n",
              "      <td>Efficacy of antifungal agents against fungal s...</td>\n",
              "      <td>8756736</td>\n",
              "      <td>na</td>\n",
              "      <td>This study was funded by Dr. Pfleger Arzneimit...</td>\n",
              "    </tr>\n",
              "    <tr>\n",
              "      <th>3</th>\n",
              "      <td>Assembly and comparative analysis of the first...</td>\n",
              "      <td>8756732</td>\n",
              "      <td>10.1186/s12870-021-03416-5</td>\n",
              "      <td>Thanks to all the members of the Institute of ...</td>\n",
              "    </tr>\n",
              "    <tr>\n",
              "      <th>4</th>\n",
              "      <td>Characterizing the effects of different chemic...</td>\n",
              "      <td>8756731</td>\n",
              "      <td>10.1186/s13007-021-00835-1</td>\n",
              "      <td>Not applicable. This work was supported by the...</td>\n",
              "    </tr>\n",
              "  </tbody>\n",
              "</table>\n",
              "</div>\n",
              "      <button class=\"colab-df-convert\" onclick=\"convertToInteractive('df-d1708b8d-a0b3-46a6-95f5-498659110297')\"\n",
              "              title=\"Convert this dataframe to an interactive table.\"\n",
              "              style=\"display:none;\">\n",
              "        \n",
              "  <svg xmlns=\"http://www.w3.org/2000/svg\" height=\"24px\"viewBox=\"0 0 24 24\"\n",
              "       width=\"24px\">\n",
              "    <path d=\"M0 0h24v24H0V0z\" fill=\"none\"/>\n",
              "    <path d=\"M18.56 5.44l.94 2.06.94-2.06 2.06-.94-2.06-.94-.94-2.06-.94 2.06-2.06.94zm-11 1L8.5 8.5l.94-2.06 2.06-.94-2.06-.94L8.5 2.5l-.94 2.06-2.06.94zm10 10l.94 2.06.94-2.06 2.06-.94-2.06-.94-.94-2.06-.94 2.06-2.06.94z\"/><path d=\"M17.41 7.96l-1.37-1.37c-.4-.4-.92-.59-1.43-.59-.52 0-1.04.2-1.43.59L10.3 9.45l-7.72 7.72c-.78.78-.78 2.05 0 2.83L4 21.41c.39.39.9.59 1.41.59.51 0 1.02-.2 1.41-.59l7.78-7.78 2.81-2.81c.8-.78.8-2.07 0-2.86zM5.41 20L4 18.59l7.72-7.72 1.47 1.35L5.41 20z\"/>\n",
              "  </svg>\n",
              "      </button>\n",
              "      \n",
              "  <style>\n",
              "    .colab-df-container {\n",
              "      display:flex;\n",
              "      flex-wrap:wrap;\n",
              "      gap: 12px;\n",
              "    }\n",
              "\n",
              "    .colab-df-convert {\n",
              "      background-color: #E8F0FE;\n",
              "      border: none;\n",
              "      border-radius: 50%;\n",
              "      cursor: pointer;\n",
              "      display: none;\n",
              "      fill: #1967D2;\n",
              "      height: 32px;\n",
              "      padding: 0 0 0 0;\n",
              "      width: 32px;\n",
              "    }\n",
              "\n",
              "    .colab-df-convert:hover {\n",
              "      background-color: #E2EBFA;\n",
              "      box-shadow: 0px 1px 2px rgba(60, 64, 67, 0.3), 0px 1px 3px 1px rgba(60, 64, 67, 0.15);\n",
              "      fill: #174EA6;\n",
              "    }\n",
              "\n",
              "    [theme=dark] .colab-df-convert {\n",
              "      background-color: #3B4455;\n",
              "      fill: #D2E3FC;\n",
              "    }\n",
              "\n",
              "    [theme=dark] .colab-df-convert:hover {\n",
              "      background-color: #434B5C;\n",
              "      box-shadow: 0px 1px 3px 1px rgba(0, 0, 0, 0.15);\n",
              "      filter: drop-shadow(0px 1px 2px rgba(0, 0, 0, 0.3));\n",
              "      fill: #FFFFFF;\n",
              "    }\n",
              "  </style>\n",
              "\n",
              "      <script>\n",
              "        const buttonEl =\n",
              "          document.querySelector('#df-d1708b8d-a0b3-46a6-95f5-498659110297 button.colab-df-convert');\n",
              "        buttonEl.style.display =\n",
              "          google.colab.kernel.accessAllowed ? 'block' : 'none';\n",
              "\n",
              "        async function convertToInteractive(key) {\n",
              "          const element = document.querySelector('#df-d1708b8d-a0b3-46a6-95f5-498659110297');\n",
              "          const dataTable =\n",
              "            await google.colab.kernel.invokeFunction('convertToInteractive',\n",
              "                                                     [key], {});\n",
              "          if (!dataTable) return;\n",
              "\n",
              "          const docLinkHtml = 'Like what you see? Visit the ' +\n",
              "            '<a target=\"_blank\" href=https://colab.research.google.com/notebooks/data_table.ipynb>data table notebook</a>'\n",
              "            + ' to learn more about interactive tables.';\n",
              "          element.innerHTML = '';\n",
              "          dataTable['output_type'] = 'display_data';\n",
              "          await google.colab.output.renderOutput(dataTable, element);\n",
              "          const docLink = document.createElement('div');\n",
              "          docLink.innerHTML = docLinkHtml;\n",
              "          element.appendChild(docLink);\n",
              "        }\n",
              "      </script>\n",
              "    </div>\n",
              "  </div>\n",
              "  "
            ]
          },
          "metadata": {},
          "execution_count": 4
        }
      ],
      "source": [
        "# importing the dataset\n",
        "ack_df = pd.read_csv(\"/content/gdrive/MyDrive/Summer_Research_2022/Data/cumulative_ack_data.csv\")\n",
        "ack_df.columns = ['Article_Title', 'PMC_ID', 'DOI', 'acknowledgement']\n",
        "ack_df.head()"
      ]
    },
    {
      "cell_type": "code",
      "execution_count": 5,
      "metadata": {
        "id": "alpdYtYWclzU"
      },
      "outputs": [],
      "source": [
        "# removing the rows for which there is no funding information\n",
        "ack_df = ack_df[ack_df['acknowledgement'] != 'na']"
      ]
    },
    {
      "cell_type": "markdown",
      "source": [
        "# 2. Applying NER on funding information"
      ],
      "metadata": {
        "id": "HUFM6FA4jukp"
      }
    },
    {
      "cell_type": "markdown",
      "source": [
        "## 1. Spacy EntityRecognizer (en_core_web_sm)\n",
        "\n",
        "ner categories - LOC, MISC, ORG, PER\n"
      ],
      "metadata": {
        "id": "P0w9ztXVkLlb"
      }
    },
    {
      "cell_type": "code",
      "execution_count": 6,
      "metadata": {
        "colab": {
          "base_uri": "https://localhost:8080/"
        },
        "id": "wYny78dJdMbw",
        "outputId": "700dc72d-acc3-491c-dbb3-034832b79562"
      },
      "outputs": [
        {
          "output_type": "stream",
          "name": "stdout",
          "text": [
            "Apple ORG\n",
            "U.K. GPE\n",
            "$1 billion MONEY\n"
          ]
        }
      ],
      "source": [
        "nlp = spacy.load('en_core_web_sm')\n",
        "\n",
        "# Test sentence\n",
        "doc = nlp('Apple is looking at buying U.K. startup for $1 billion')\n",
        "for ent in doc.ents:\n",
        "  print(ent,ent.label_)"
      ]
    },
    {
      "cell_type": "code",
      "execution_count": null,
      "metadata": {
        "id": "9eY4GlhxhtD-"
      },
      "outputs": [],
      "source": [
        "# applying the EntityRecognizer to the acknowledgement dataset\n",
        "ack_ner = []\n",
        "for ele in ack_df['acknowledgement']:\n",
        "  ele = nlp(ele).ents\n",
        "  temp = {}\n",
        "  for ent in ele:\n",
        "    if ent.label_ in temp:\n",
        "      temp[ent.label_].append(ent.text)\n",
        "    else:\n",
        "      temp[ent.label_] = [ent.text]\n",
        "  \n",
        "  ack_ner.append(temp)\n",
        "  \n",
        "ack_df['NER_Spacy (en_core_web_sm)'] = ack_ner\n",
        "ack_df.reset_index(inplace= True)"
      ]
    },
    {
      "cell_type": "code",
      "execution_count": null,
      "metadata": {
        "id": "YltbETPovZ_A"
      },
      "outputs": [],
      "source": [
        "ack_df.head()"
      ]
    },
    {
      "cell_type": "code",
      "execution_count": null,
      "metadata": {
        "id": "C3cCyznXhuVf"
      },
      "outputs": [],
      "source": [
        "print(ack_df.loc[4,:]['acknowledgement'])\n",
        "print(ack_df.loc[4,:]['NER_Spacy (en_core_web_sm)'])"
      ]
    },
    {
      "cell_type": "markdown",
      "source": [
        "## 2. Spacy EntityRecognizer (en_core_web_md)\n",
        "\n",
        "ner categories - CARDINAL, DATE, EVENT, FAC, GPE, LANGUAGE, LAW, LOC, MONEY, NORP, ORDINAL, ORG, PERCENT, PERSON, PRODUCT, QUANTITY, TIME, WORK_OF_ART"
      ],
      "metadata": {
        "id": "3Hc0GobYkVP6"
      }
    },
    {
      "cell_type": "code",
      "execution_count": null,
      "metadata": {
        "id": "Jer-MIvGnXqF"
      },
      "outputs": [],
      "source": [
        "# https://stackoverflow.com/questions/56927602/unable-to-load-the-spacy-model-en-core-web-lg-on-google-colab\n",
        "import spacy.cli\n",
        "spacy.cli.download(\"en_core_web_md\")\n",
        "nlp = spacy.load(\"en_core_web_md\")\n",
        "\n",
        "# Test sentence\n",
        "doc = nlp('Apple is looking at buying U.K. startup for $1 billion')\n",
        "for ent in doc.ents:\n",
        "  print(ent,ent.label_)"
      ]
    },
    {
      "cell_type": "code",
      "execution_count": null,
      "metadata": {
        "id": "hKa9IIQWngHx"
      },
      "outputs": [],
      "source": [
        "# applying the EntityRecognizer to the acknowledgement dataset\n",
        "ack_ner = []\n",
        "for ele in ack_df['acknowledgement']:\n",
        "  ele = nlp(ele).ents\n",
        "  temp = {}\n",
        "  for ent in ele:\n",
        "    if ent.label_ in temp:\n",
        "      temp[ent.label_].append(ent.text)\n",
        "    else:\n",
        "      temp[ent.label_] = [ent.text]\n",
        "  \n",
        "  ack_ner.append(temp)\n",
        "  \n",
        "ack_df['NER_Spacy (en_core_web_md)'] = ack_ner"
      ]
    },
    {
      "cell_type": "code",
      "execution_count": null,
      "metadata": {
        "id": "HxeMZ01SnkOy"
      },
      "outputs": [],
      "source": [
        "ack_df.head()"
      ]
    },
    {
      "cell_type": "code",
      "execution_count": null,
      "metadata": {
        "id": "Q6rWOUlYnnhO"
      },
      "outputs": [],
      "source": [
        "print(ack_df.loc[1,:]['acknowledgement'])\n",
        "print(ack_df.loc[1,:]['NER_Spacy (en_core_web_md)'])"
      ]
    },
    {
      "cell_type": "markdown",
      "source": [
        "## 3. Spacy EntityRecognizer (en_core_web_lg)\n",
        "\n",
        "ner categories  - CARDINAL, DATE, EVENT, FAC, GPE, LANGUAGE, LAW, LOC, MONEY, NORP, ORDINAL, ORG, PERCENT, PERSON, PRODUCT, QUANTITY, TIME, WORK_OF_ART"
      ],
      "metadata": {
        "id": "YNIGwzM-kbEo"
      }
    },
    {
      "cell_type": "code",
      "execution_count": null,
      "metadata": {
        "id": "d_vE8m2YvJps"
      },
      "outputs": [],
      "source": [
        "# https://stackoverflow.com/questions/56927602/unable-to-load-the-spacy-model-en-core-web-lg-on-google-colab\n",
        "import spacy.cli\n",
        "spacy.cli.download(\"en_core_web_lg\")\n",
        "nlp = spacy.load(\"en_core_web_lg\")\n",
        "\n",
        "# Test sentence\n",
        "doc = nlp('Apple is looking at buying U.K. startup for $1 billion')\n",
        "for ent in doc.ents:\n",
        "  print(ent,ent.label_)"
      ]
    },
    {
      "cell_type": "code",
      "execution_count": null,
      "metadata": {
        "id": "6QUYON9dvZvI"
      },
      "outputs": [],
      "source": [
        "# applying the EntityRecognizer to the acknowledgement dataset\n",
        "ack_ner = []\n",
        "for ele in ack_df['acknowledgement']:\n",
        "  ele = nlp(ele).ents\n",
        "  temp = {}\n",
        "  for ent in ele:\n",
        "    if ent.label_ in temp:\n",
        "      temp[ent.label_].append(ent.text)\n",
        "    else:\n",
        "      temp[ent.label_] = [ent.text]\n",
        "  \n",
        "  ack_ner.append(temp)\n",
        "  \n",
        "ack_df['NER_Spacy (en_core_web_lg)'] = ack_ner"
      ]
    },
    {
      "cell_type": "code",
      "execution_count": null,
      "metadata": {
        "id": "0lpe-2iQvdpo"
      },
      "outputs": [],
      "source": [
        "ack_df.head()"
      ]
    },
    {
      "cell_type": "code",
      "execution_count": null,
      "metadata": {
        "id": "FVG_DuMPxzp5"
      },
      "outputs": [],
      "source": [
        "print(ack_df.loc[1,:]['acknowledgement'])\n",
        "print(ack_df.loc[1,:]['NER_Spacy (en_core_web_lg)'])"
      ]
    },
    {
      "cell_type": "markdown",
      "metadata": {
        "id": "kiav1EE1qRKw"
      },
      "source": [
        "4. Flair - English NER in Flair (large model) - 4 class model"
      ]
    },
    {
      "cell_type": "markdown",
      "source": [
        "## 4. Flair - English NER in Flair (large model)\n",
        "\n",
        "4 class model"
      ],
      "metadata": {
        "id": "ADt_uK1Gkgzg"
      }
    },
    {
      "cell_type": "code",
      "execution_count": null,
      "metadata": {
        "id": "5klrEL-rr5Ut"
      },
      "outputs": [],
      "source": [
        "!pip install flair"
      ]
    },
    {
      "cell_type": "code",
      "execution_count": null,
      "metadata": {
        "id": "-jZcAjs9KEaS"
      },
      "outputs": [],
      "source": [
        "from flair.data import Sentence\n",
        "from flair.models import SequenceTagger"
      ]
    },
    {
      "cell_type": "code",
      "execution_count": null,
      "metadata": {
        "id": "FFM04FRBKvSN"
      },
      "outputs": [],
      "source": [
        "# Make a sentence\n",
        "sentence = Sentence(\"Apple is looking at buying U.K. startup for $1 billion\")\n",
        "\n",
        "# Load the NER tagger\n",
        "# This file is around 1.5 GB so will take a little while to load.\n",
        "tagger = SequenceTagger.load(\"flair/ner-english-large\")\n",
        "\n",
        "# Run NER over sentence\n",
        "tagger.predict(sentence)"
      ]
    },
    {
      "cell_type": "code",
      "execution_count": null,
      "metadata": {
        "id": "OCuZ6I8uMGQ8"
      },
      "outputs": [],
      "source": [
        "# print predicted NER spans\n",
        "print('The following NER tags are found:')\n",
        "# iterate over entities and print\n",
        "for entity in sentence.get_spans('ner'):\n",
        "    print(entity)"
      ]
    },
    {
      "cell_type": "code",
      "execution_count": null,
      "metadata": {
        "id": "zP9a1zMgMyck"
      },
      "outputs": [],
      "source": [
        "# applying the Flair to the acknowledgement dataset\n",
        "ack_ner = []\n",
        "for ele in ack_df['acknowledgement']:\n",
        "  sentence = Sentence(ele)\n",
        "  tagger.predict(sentence)\n",
        "  ner_sent = sentence.get_spans('ner')\n",
        "  temp = {}\n",
        "  for ent in ner_sent:\n",
        "    ent_label = ent.get_label(\"ner\").value\n",
        "    ent_text = ent.text\n",
        "\n",
        "    if ent_label in temp:\n",
        "      temp[ent_label].append(ent_text)\n",
        "    else:\n",
        "      temp[ent_label] = [ent_text]\n",
        "  \n",
        "  ack_ner.append(temp)\n",
        "  \n",
        "\n",
        "ack_df['NER_Flair'] = ack_ner"
      ]
    },
    {
      "cell_type": "code",
      "execution_count": null,
      "metadata": {
        "id": "OXB1sPrkO26O"
      },
      "outputs": [],
      "source": [
        "ack_df.head()"
      ]
    },
    {
      "cell_type": "code",
      "execution_count": null,
      "metadata": {
        "id": "k1tdvv8Uz-9U"
      },
      "outputs": [],
      "source": [
        "print(ack_df.loc[1,:]['acknowledgement'])\n",
        "print(ack_df.loc[1,:]['NER_Flair'])"
      ]
    },
    {
      "cell_type": "markdown",
      "source": [
        "# Output Data generation"
      ],
      "metadata": {
        "id": "eomD8PgYktM-"
      }
    },
    {
      "cell_type": "code",
      "execution_count": null,
      "metadata": {
        "id": "mj53M1MVsUh2"
      },
      "outputs": [],
      "source": [
        "# extracting the organization entity from NER_Spacy (en_core_web_sm)\n",
        "ner_org = []\n",
        "for ele in ack_df['NER_Spacy (en_core_web_sm)']:\n",
        "  temp = []\n",
        "  if len(ele) != 0 and 'ORG' in ele.keys():\n",
        "    temp = ele['ORG']\n",
        "    ner_org.append(temp)\n",
        "  else:\n",
        "    ner_org.append(\"NA\")\n",
        "\n",
        "ack_df['NER_spacy_sm_org'] = ner_org\n",
        "\n",
        "# extracting the organization entity from NER_Spacy (en_core_web_md)\n",
        "ner_org = []\n",
        "for ele in ack_df['NER_Spacy (en_core_web_md)']:\n",
        "  temp = []\n",
        "  if len(ele) != 0 and 'ORG' in ele.keys():\n",
        "    temp = ele['ORG']\n",
        "    ner_org.append(temp)\n",
        "  else:\n",
        "    ner_org.append(\"NA\")\n",
        "\n",
        "ack_df['NER_spacy_md_org'] = ner_org\n",
        "    \n",
        "# extracting the organization entity from NER_Spacy (en_core_web_lg)\n",
        "ner_org = []\n",
        "for ele in ack_df['NER_Spacy (en_core_web_lg)']:\n",
        "  temp = []\n",
        "  if len(ele) != 0 and 'ORG' in ele.keys():\n",
        "    temp = ele['ORG']\n",
        "    ner_org.append(temp)\n",
        "  else:\n",
        "    ner_org.append(\"NA\")\n",
        "\n",
        "ack_df['NER_spacy_lg_org'] = ner_org\n",
        "\n",
        "\n",
        "# extracting the organization entity from NER_Flair\n",
        "ner_org = []\n",
        "for ele in ack_df['NER_Flair']:\n",
        "  temp = []\n",
        "  if len(ele) != 0 and 'ORG' in ele.keys():\n",
        "    temp = ele['ORG']\n",
        "    ner_org.append(temp)\n",
        "  else:\n",
        "    ner_org.append(\"NA\")\n",
        "\n",
        "ack_df['NER_Flair_org'] = ner_org"
      ]
    },
    {
      "cell_type": "code",
      "execution_count": null,
      "metadata": {
        "id": "nquDLyam3o4n"
      },
      "outputs": [],
      "source": [
        "ack_df"
      ]
    },
    {
      "cell_type": "code",
      "execution_count": null,
      "metadata": {
        "id": "hKC_zfmd5Kj-"
      },
      "outputs": [],
      "source": [
        "# saving the file to csv\n",
        "ack_df.to_csv(\"/content/ack_ner.csv\")"
      ]
    },
    {
      "cell_type": "code",
      "execution_count": null,
      "metadata": {
        "id": "ISdnhZf3h-8e"
      },
      "outputs": [],
      "source": [
        "from google.colab import drive\n",
        "drive.mount('/content/drive')\n"
      ]
    },
    {
      "cell_type": "code",
      "execution_count": null,
      "metadata": {
        "id": "JInyyCuv4F02"
      },
      "outputs": [],
      "source": [
        "with open('drive/MyDrive/ack_ner.pickle', 'wb') as handle:\n",
        "    pickle.dump(ack_df, handle, protocol=pickle.HIGHEST_PROTOCOL)"
      ]
    },
    {
      "cell_type": "code",
      "source": [
        "t_1 = timeit.default_timer()\n",
        "print(\"The time elapsed: \", t_1 - t_0)"
      ],
      "metadata": {
        "id": "HQ6DTtzX84pI"
      },
      "execution_count": null,
      "outputs": []
    }
  ],
  "metadata": {
    "colab": {
      "collapsed_sections": [],
      "provenance": [],
      "toc_visible": true
    },
    "gpuClass": "standard",
    "kernelspec": {
      "display_name": "Python 3",
      "name": "python3"
    },
    "language_info": {
      "name": "python"
    },
    "accelerator": "GPU"
  },
  "nbformat": 4,
  "nbformat_minor": 0
}